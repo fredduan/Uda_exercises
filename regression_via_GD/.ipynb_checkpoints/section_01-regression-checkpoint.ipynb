{
 "cells": [
  {
   "cell_type": "code",
   "execution_count": null,
   "metadata": {
    "collapsed": true
   },
   "outputs": [],
   "source": [
    "from numpy import *\n",
    "\n",
    "def compute\n",
    "\n",
    "def step_gradient(current_b,current_w,points,learning_rate)\n",
    "\n",
    "def gradient_descent_runner(points,starting_b,starting_w,learning_rate,num_iterations):\n",
    "    b=starting_b\n",
    "    w=starting_w\n",
    "    for i in range(num_iterations):\n",
    "        b,w=step_gradient(b,w,array(points),learning_rate)\n",
    "        return [b,m]\n",
    "\n",
    "def run():\n",
    "    points=genfromtext('data.csv',delimiter=',')\n",
    "    #hyperparameters\n",
    "    learning_rate=0.0001\n",
    "    #y=wx+b\n",
    "    initial_b=0\n",
    "    initial_w=0\n",
    "    num_iterations=10000\n",
    "    [b,w]=gradient_descent_runner(points,initial_b,initial_w,learning_rate,num_iterations)\n",
    "\n",
    "if __name__=='__main__':\n",
    "    run()"
   ]
  },
  {
   "cell_type": "markdown",
   "metadata": {},
   "source": [
    "``` python\n",
    "if __name__='__main__':\n",
    "    run()\n",
    "```\n",
    "- 这句话表示：当.py文件被直接运行时，if __name__ == '__main__'之下的代码块将被运行；当.py文件以模块形式被导入时，if __name__ == '__main__'之下的代码块不被运行。\n",
    "- python语言没有程序入口\n",
    "- 一个Python源码文件（.py）除了可以被直接运行外，还可以作为模块（也就是库），被其他.py文件导入。不管是直接运行还是被导入，.py文件的最顶层代码都会被运行（Python用缩进来区分代码层次），而当一个.py文件作为模块被导入时，我们可能不希望一部分代码被运行。\n",
    "- __name__是内置变量，可用于反映一个包的结构。\n",
    "- __name__是内置变量，可用于表示当前模块的名字。\n",
    "- 如果一个.py文件（模块）被直接运行时，则其没有包结构，其__name__值为__main__，即模块名为__main__。"
   ]
  },
  {
   "cell_type": "code",
   "execution_count": null,
   "metadata": {
    "collapsed": true
   },
   "outputs": [],
   "source": []
  }
 ],
 "metadata": {
  "anaconda-cloud": {},
  "kernelspec": {
   "display_name": "Python [default]",
   "language": "python",
   "name": "python3"
  },
  "language_info": {
   "codemirror_mode": {
    "name": "ipython",
    "version": 3
   },
   "file_extension": ".py",
   "mimetype": "text/x-python",
   "name": "python",
   "nbconvert_exporter": "python",
   "pygments_lexer": "ipython3",
   "version": "3.5.2"
  }
 },
 "nbformat": 4,
 "nbformat_minor": 1
}
